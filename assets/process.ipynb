{
 "cells": [
  {
   "cell_type": "code",
   "execution_count": 2,
   "metadata": {},
   "outputs": [],
   "source": [
    "import json\n",
    "import pandas as pd\n",
    "import os"
   ]
  },
  {
   "cell_type": "code",
   "execution_count": 3,
   "metadata": {},
   "outputs": [],
   "source": [
    "model_name_map = {\n",
    "    'GPT4o_20240806': 'GPT-4o',\n",
    "    'GPT4o_MINI': 'GPT-4o-Mini',\n",
    "    'Qwen2-VL-2B-Instruct': 'Qwen2-VL-2B',\n",
    "    'Qwen2-VL-7B-Instruct': 'Qwen2-VL-7B',\n",
    "    'Qwen2-VL-72B-Instruct': 'Qwen2-VL-72B',\n",
    "    'molmo-72B-0924': 'Molmo-72B',\n",
    "    'molmo-7B-D-0924': 'Molmo-7B-D',\n",
    "    'molmo-7B-O-0924': 'Molmo-7B-O',\n",
    "    'molmoE-1B-0924': 'MolmoE-1B',\n",
    "    'VILA1.5-40b': 'VILA1.5-40B',\n",
    "    'VILA1.5-3b': 'VILA1.5-3B',\n",
    "    'VILA1.5-13b': 'VILA1.5-13B',\n",
    "    'Llama-3-VILA1.5-8b': 'VILA1.5-8B',\n",
    "    'cambrian_8b': 'Cambrian-8B',\n",
    "    'cambrian_13b': 'Cambrian-13B',\n",
    "    'cambrian_34b': 'Cambrian-34B',\n",
    "    'chameleon_7b': 'Chameleon-7B',\n",
    "    'chameleon_30b': 'Chameleon-30B',\n",
    "    'cogvlm-chat': 'CogVLM-17B',\n",
    "    'cogvlm2-llama3-chat-19B': 'CogVLM2-19B',\n",
    "    'deepseek_vl_1.3b': 'DeepSeek-VL-1.3B',\n",
    "    'deepseek_vl_7b': 'DeepSeek-VL-7B',\n",
    "    'idefics2_8b': 'Idefics2-8B',\n",
    "    'paligemma-3b-mix-448': 'PaliGemma-3B',\n",
    "    'llava_v1.5_7b': 'LLAVA1.5-7B',\n",
    "    'llava_v1.5_13b': 'LLAVA1.5-13B',\n",
    "    'instructblip_7b': 'InstructBLIP-7B',\n",
    "    'instructblip_13b': 'InstructBLIP-13B',\n",
    "#  'VILA1.5-3b','Llama-3-VILA1.5-8b','VILA1.5-13b','VILA1.5-40b',\n",
    "#  'cambrian_8b','cambrian_13b','cambrian_34b',\n",
    "#  'chameleon_7b','chameleon_30b',\n",
    "#  'cogvlm-chat','cogvlm2-llama3-chat-19B',\n",
    "#  'deepseek_vl_1.3b','deepseek_vl_7b',\n",
    "#  'idefics2_8b',\n",
    "#  'paligemma-3b-mix-448',\n",
    "#  'llava_v1.5_7b','llava_v1.5_13b',\n",
    "#  'instructblip_7b','instructblip_13b'\n",
    "}"
   ]
  },
  {
   "cell_type": "code",
   "execution_count": 5,
   "metadata": {},
   "outputs": [
    {
     "data": {
      "text/plain": [
       "'Files have been renamed based on the model name map.'"
      ]
     },
     "execution_count": 5,
     "metadata": {},
     "output_type": "execute_result"
    }
   ],
   "source": [
    "\n",
    "\n",
    "# Get the current directory and list all .jsonl files\n",
    "current_directory = '/Users/suyc/Desktop/Stanford Summer Research/AutoConverter/AutoConverter-Website/assets/vmcbench_test'  # Update this if needed\n",
    "files = [f for f in os.listdir(current_directory) if f.endswith('_VMCBench_TEST.jsonl')]\n",
    "# print(files)\n",
    "# Rename the files based on the mapping\n",
    "for file in files:\n",
    "    # Extract the model name from the file name\n",
    "    model_name = file.split('_VMCBench_TEST.jsonl')[0]\n",
    "    \n",
    "    # Check if the model name is in the map\n",
    "    new_model_name = model_name_map.get(model_name, model_name)\n",
    "    \n",
    "    # Create the new file name\n",
    "    new_file_name = f\"{new_model_name}_VMCBench_TEST.jsonl\"\n",
    "    \n",
    "    # Rename the file if necessary\n",
    "    old_file_path = os.path.join(current_directory, file)\n",
    "    new_file_path = os.path.join(current_directory, new_file_name)\n",
    "    os.rename(old_file_path, new_file_path)\n",
    "\n",
    "# Output a message indicating the process is complete\n",
    "\"Files have been renamed based on the model name map.\""
   ]
  }
 ],
 "metadata": {
  "kernelspec": {
   "display_name": "base",
   "language": "python",
   "name": "python3"
  },
  "language_info": {
   "codemirror_mode": {
    "name": "ipython",
    "version": 3
   },
   "file_extension": ".py",
   "mimetype": "text/x-python",
   "name": "python",
   "nbconvert_exporter": "python",
   "pygments_lexer": "ipython3",
   "version": "3.12.7"
  }
 },
 "nbformat": 4,
 "nbformat_minor": 2
}
